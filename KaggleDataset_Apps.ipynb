{
 "cells": [
  {
   "cell_type": "code",
   "execution_count": 1,
   "metadata": {},
   "outputs": [
    {
     "name": "stderr",
     "output_type": "stream",
     "text": [
      "Using TensorFlow backend.\n"
     ]
    }
   ],
   "source": [
    "import sqlite3\n",
    "import pandas as pd\n",
    "import numpy as np\n",
    "import matplotlib.pyplot as plt\n",
    "\n",
    "from sklearn.preprocessing import StandardScaler\n",
    "from sklearn.model_selection import train_test_split\n",
    "import keras\n",
    "from keras.models import Sequential\n",
    "from keras.layers import Dense, Dropout\n"
   ]
  },
  {
   "cell_type": "code",
   "execution_count": 2,
   "metadata": {},
   "outputs": [
    {
     "data": {
      "text/html": [
       "<div>\n",
       "<style scoped>\n",
       "    .dataframe tbody tr th:only-of-type {\n",
       "        vertical-align: middle;\n",
       "    }\n",
       "\n",
       "    .dataframe tbody tr th {\n",
       "        vertical-align: top;\n",
       "    }\n",
       "\n",
       "    .dataframe thead th {\n",
       "        text-align: right;\n",
       "    }\n",
       "</style>\n",
       "<table border=\"1\" class=\"dataframe\">\n",
       "  <thead>\n",
       "    <tr style=\"text-align: right;\">\n",
       "      <th></th>\n",
       "      <th>OBJECTID</th>\n",
       "      <th>FOD_ID</th>\n",
       "      <th>FPA_ID</th>\n",
       "      <th>SOURCE_SYSTEM_TYPE</th>\n",
       "      <th>SOURCE_SYSTEM</th>\n",
       "      <th>NWCG_REPORTING_AGENCY</th>\n",
       "      <th>NWCG_REPORTING_UNIT_ID</th>\n",
       "      <th>NWCG_REPORTING_UNIT_NAME</th>\n",
       "      <th>SOURCE_REPORTING_UNIT</th>\n",
       "      <th>SOURCE_REPORTING_UNIT_NAME</th>\n",
       "      <th>...</th>\n",
       "      <th>FIRE_SIZE_CLASS</th>\n",
       "      <th>LATITUDE</th>\n",
       "      <th>LONGITUDE</th>\n",
       "      <th>OWNER_CODE</th>\n",
       "      <th>OWNER_DESCR</th>\n",
       "      <th>STATE</th>\n",
       "      <th>COUNTY</th>\n",
       "      <th>FIPS_CODE</th>\n",
       "      <th>FIPS_NAME</th>\n",
       "      <th>Shape</th>\n",
       "    </tr>\n",
       "  </thead>\n",
       "  <tbody>\n",
       "    <tr>\n",
       "      <th>0</th>\n",
       "      <td>1</td>\n",
       "      <td>1</td>\n",
       "      <td>FS-1418826</td>\n",
       "      <td>FED</td>\n",
       "      <td>FS-FIRESTAT</td>\n",
       "      <td>FS</td>\n",
       "      <td>USCAPNF</td>\n",
       "      <td>Plumas National Forest</td>\n",
       "      <td>0511</td>\n",
       "      <td>Plumas National Forest</td>\n",
       "      <td>...</td>\n",
       "      <td>A</td>\n",
       "      <td>40.036944</td>\n",
       "      <td>-121.005833</td>\n",
       "      <td>5.0</td>\n",
       "      <td>USFS</td>\n",
       "      <td>CA</td>\n",
       "      <td>63</td>\n",
       "      <td>063</td>\n",
       "      <td>Plumas</td>\n",
       "      <td>b'\\x00\\x01\\xad\\x10\\x00\\x00\\xe8d\\xc2\\x92_@^\\xc0...</td>\n",
       "    </tr>\n",
       "    <tr>\n",
       "      <th>1</th>\n",
       "      <td>2</td>\n",
       "      <td>2</td>\n",
       "      <td>FS-1418827</td>\n",
       "      <td>FED</td>\n",
       "      <td>FS-FIRESTAT</td>\n",
       "      <td>FS</td>\n",
       "      <td>USCAENF</td>\n",
       "      <td>Eldorado National Forest</td>\n",
       "      <td>0503</td>\n",
       "      <td>Eldorado National Forest</td>\n",
       "      <td>...</td>\n",
       "      <td>A</td>\n",
       "      <td>38.933056</td>\n",
       "      <td>-120.404444</td>\n",
       "      <td>5.0</td>\n",
       "      <td>USFS</td>\n",
       "      <td>CA</td>\n",
       "      <td>61</td>\n",
       "      <td>061</td>\n",
       "      <td>Placer</td>\n",
       "      <td>b'\\x00\\x01\\xad\\x10\\x00\\x00T\\xb6\\xeej\\xe2\\x19^\\...</td>\n",
       "    </tr>\n",
       "    <tr>\n",
       "      <th>2</th>\n",
       "      <td>3</td>\n",
       "      <td>3</td>\n",
       "      <td>FS-1418835</td>\n",
       "      <td>FED</td>\n",
       "      <td>FS-FIRESTAT</td>\n",
       "      <td>FS</td>\n",
       "      <td>USCAENF</td>\n",
       "      <td>Eldorado National Forest</td>\n",
       "      <td>0503</td>\n",
       "      <td>Eldorado National Forest</td>\n",
       "      <td>...</td>\n",
       "      <td>A</td>\n",
       "      <td>38.984167</td>\n",
       "      <td>-120.735556</td>\n",
       "      <td>13.0</td>\n",
       "      <td>STATE OR PRIVATE</td>\n",
       "      <td>CA</td>\n",
       "      <td>17</td>\n",
       "      <td>017</td>\n",
       "      <td>El Dorado</td>\n",
       "      <td>b'\\x00\\x01\\xad\\x10\\x00\\x00\\xd0\\xa5\\xa0W\\x13/^\\...</td>\n",
       "    </tr>\n",
       "    <tr>\n",
       "      <th>3</th>\n",
       "      <td>4</td>\n",
       "      <td>4</td>\n",
       "      <td>FS-1418845</td>\n",
       "      <td>FED</td>\n",
       "      <td>FS-FIRESTAT</td>\n",
       "      <td>FS</td>\n",
       "      <td>USCAENF</td>\n",
       "      <td>Eldorado National Forest</td>\n",
       "      <td>0503</td>\n",
       "      <td>Eldorado National Forest</td>\n",
       "      <td>...</td>\n",
       "      <td>A</td>\n",
       "      <td>38.559167</td>\n",
       "      <td>-119.913333</td>\n",
       "      <td>5.0</td>\n",
       "      <td>USFS</td>\n",
       "      <td>CA</td>\n",
       "      <td>3</td>\n",
       "      <td>003</td>\n",
       "      <td>Alpine</td>\n",
       "      <td>b'\\x00\\x01\\xad\\x10\\x00\\x00\\x94\\xac\\xa3\\rt\\xfa]...</td>\n",
       "    </tr>\n",
       "    <tr>\n",
       "      <th>4</th>\n",
       "      <td>5</td>\n",
       "      <td>5</td>\n",
       "      <td>FS-1418847</td>\n",
       "      <td>FED</td>\n",
       "      <td>FS-FIRESTAT</td>\n",
       "      <td>FS</td>\n",
       "      <td>USCAENF</td>\n",
       "      <td>Eldorado National Forest</td>\n",
       "      <td>0503</td>\n",
       "      <td>Eldorado National Forest</td>\n",
       "      <td>...</td>\n",
       "      <td>A</td>\n",
       "      <td>38.559167</td>\n",
       "      <td>-119.933056</td>\n",
       "      <td>5.0</td>\n",
       "      <td>USFS</td>\n",
       "      <td>CA</td>\n",
       "      <td>3</td>\n",
       "      <td>003</td>\n",
       "      <td>Alpine</td>\n",
       "      <td>b'\\x00\\x01\\xad\\x10\\x00\\x00@\\xe3\\xaa.\\xb7\\xfb]\\...</td>\n",
       "    </tr>\n",
       "  </tbody>\n",
       "</table>\n",
       "<p>5 rows × 39 columns</p>\n",
       "</div>"
      ],
      "text/plain": [
       "   OBJECTID  FOD_ID      FPA_ID SOURCE_SYSTEM_TYPE SOURCE_SYSTEM  \\\n",
       "0         1       1  FS-1418826                FED   FS-FIRESTAT   \n",
       "1         2       2  FS-1418827                FED   FS-FIRESTAT   \n",
       "2         3       3  FS-1418835                FED   FS-FIRESTAT   \n",
       "3         4       4  FS-1418845                FED   FS-FIRESTAT   \n",
       "4         5       5  FS-1418847                FED   FS-FIRESTAT   \n",
       "\n",
       "  NWCG_REPORTING_AGENCY NWCG_REPORTING_UNIT_ID  NWCG_REPORTING_UNIT_NAME  \\\n",
       "0                    FS                USCAPNF    Plumas National Forest   \n",
       "1                    FS                USCAENF  Eldorado National Forest   \n",
       "2                    FS                USCAENF  Eldorado National Forest   \n",
       "3                    FS                USCAENF  Eldorado National Forest   \n",
       "4                    FS                USCAENF  Eldorado National Forest   \n",
       "\n",
       "  SOURCE_REPORTING_UNIT SOURCE_REPORTING_UNIT_NAME  ... FIRE_SIZE_CLASS  \\\n",
       "0                  0511     Plumas National Forest  ...               A   \n",
       "1                  0503   Eldorado National Forest  ...               A   \n",
       "2                  0503   Eldorado National Forest  ...               A   \n",
       "3                  0503   Eldorado National Forest  ...               A   \n",
       "4                  0503   Eldorado National Forest  ...               A   \n",
       "\n",
       "    LATITUDE   LONGITUDE OWNER_CODE       OWNER_DESCR STATE COUNTY FIPS_CODE  \\\n",
       "0  40.036944 -121.005833        5.0              USFS    CA     63       063   \n",
       "1  38.933056 -120.404444        5.0              USFS    CA     61       061   \n",
       "2  38.984167 -120.735556       13.0  STATE OR PRIVATE    CA     17       017   \n",
       "3  38.559167 -119.913333        5.0              USFS    CA      3       003   \n",
       "4  38.559167 -119.933056        5.0              USFS    CA      3       003   \n",
       "\n",
       "   FIPS_NAME                                              Shape  \n",
       "0     Plumas  b'\\x00\\x01\\xad\\x10\\x00\\x00\\xe8d\\xc2\\x92_@^\\xc0...  \n",
       "1     Placer  b'\\x00\\x01\\xad\\x10\\x00\\x00T\\xb6\\xeej\\xe2\\x19^\\...  \n",
       "2  El Dorado  b'\\x00\\x01\\xad\\x10\\x00\\x00\\xd0\\xa5\\xa0W\\x13/^\\...  \n",
       "3     Alpine  b'\\x00\\x01\\xad\\x10\\x00\\x00\\x94\\xac\\xa3\\rt\\xfa]...  \n",
       "4     Alpine  b'\\x00\\x01\\xad\\x10\\x00\\x00@\\xe3\\xaa.\\xb7\\xfb]\\...  \n",
       "\n",
       "[5 rows x 39 columns]"
      ]
     },
     "execution_count": 2,
     "metadata": {},
     "output_type": "execute_result"
    }
   ],
   "source": [
    "con=sqlite3.connect('./FPA_FOD_20170508.sqlite')\n",
    "\n",
    "df = pd.read_sql_query(\"SELECT * From Fires\", con)\n",
    "df.head()\n"
   ]
  },
  {
   "cell_type": "code",
   "execution_count": 3,
   "metadata": {},
   "outputs": [],
   "source": [
    "cursor = con.cursor()\n",
    "cursor.execute(\"SELECT name FROM sqlite_master WHERE type='table';\")\n",
    "#print(cursor.fetchall())\n",
    "cursor.close()\n",
    "con.close()"
   ]
  },
  {
   "cell_type": "code",
   "execution_count": null,
   "metadata": {},
   "outputs": [],
   "source": [
    "def to_csv():\n",
    "    con=sqlite3.connect('./FPA_FOD_20170508.sqlite')\n",
    "\n",
    "    cursor = con.cursor()\n",
    "    cursor.execute(\"SELECT name FROM sqlite_master WHERE type='table';\")\n",
    "    tables = cursor.fetchall()\n",
    "    for table_name in tables:\n",
    "        table_name = table_name[0]\n",
    "        #if (table_name != 'SpatialIndex' and table_name != 'ElementaryGeometries' and table_name != 'KNN') :\n",
    "        if (table_name == 'Fires'):\n",
    "            table = pd.read_sql_query(\"SELECT * From {}\".format(table_name), con)\n",
    "            table.to_csv(table_name + '.csv', index_label='index')\n",
    "    cursor.close()\n",
    "    con.close()"
   ]
  },
  {
   "cell_type": "code",
   "execution_count": null,
   "metadata": {},
   "outputs": [],
   "source": [
    "to_csv()"
   ]
  },
  {
   "cell_type": "code",
   "execution_count": 4,
   "metadata": {},
   "outputs": [],
   "source": [
    "# Remove unwanted cols\n",
    "df = df.drop(['OBJECTID','STATE', 'COUNTY','FOD_ID', 'FPA_ID', 'SOURCE_SYSTEM_TYPE', 'SOURCE_SYSTEM',\n",
    "       'NWCG_REPORTING_AGENCY', 'NWCG_REPORTING_UNIT_ID',\n",
    "       'NWCG_REPORTING_UNIT_NAME', 'SOURCE_REPORTING_UNIT',\n",
    "       'SOURCE_REPORTING_UNIT_NAME', 'LOCAL_FIRE_REPORT_ID',\n",
    "       'LOCAL_INCIDENT_ID', 'FIRE_CODE', 'FIRE_NAME',\n",
    "       'ICS_209_INCIDENT_NUMBER', 'ICS_209_NAME', 'MTBS_ID', 'MTBS_FIRE_NAME',\n",
    "       'COMPLEX_NAME', 'FIRE_YEAR', 'STAT_CAUSE_DESCR', 'CONT_DATE',\n",
    "       'CONT_DOY', 'CONT_TIME', 'FIRE_SIZE_CLASS', 'OWNER_CODE', 'OWNER_DESCR',\n",
    "       'FIPS_CODE', 'FIPS_NAME', 'Shape','DISCOVERY_TIME'], axis=1)"
   ]
  },
  {
   "cell_type": "code",
   "execution_count": 5,
   "metadata": {},
   "outputs": [
    {
     "name": "stdout",
     "output_type": "stream",
     "text": [
      "Index(['DISCOVERY_DATE', 'DISCOVERY_DOY', 'STAT_CAUSE_CODE', 'FIRE_SIZE',\n",
      "       'LATITUDE', 'LONGITUDE'],\n",
      "      dtype='object')\n"
     ]
    }
   ],
   "source": [
    "print(df.columns) "
   ]
  },
  {
   "cell_type": "code",
   "execution_count": 6,
   "metadata": {},
   "outputs": [
    {
     "name": "stdout",
     "output_type": "stream",
     "text": [
      "Empty DataFrame\n",
      "Columns: [DISCOVERY_DATE, DISCOVERY_DOY, STAT_CAUSE_CODE, FIRE_SIZE, LATITUDE, LONGITUDE]\n",
      "Index: []\n"
     ]
    }
   ],
   "source": [
    "# Check for Nan values\n",
    "df.isnull().values.any()\n",
    "df1 = df[df.isna().any(axis=1)]\n",
    "print(df1)"
   ]
  },
  {
   "cell_type": "code",
   "execution_count": 7,
   "metadata": {},
   "outputs": [
    {
     "name": "stdout",
     "output_type": "stream",
     "text": [
      "[[40.03694444]\n",
      " [38.93305556]\n",
      " [38.98416667]]\n",
      "[[ 2.45340350e+06  3.30000000e+01  9.00000000e+00  1.00000000e-01\n",
      "  -1.21005833e+02]\n",
      " [ 2.45313750e+06  1.33000000e+02  1.00000000e+00  2.50000000e-01\n",
      "  -1.20404444e+02]\n",
      " [ 2.45315650e+06  1.52000000e+02  5.00000000e+00  1.00000000e-01\n",
      "  -1.20735556e+02]]\n"
     ]
    }
   ],
   "source": [
    "#Changing pandas dataframe to numpy array\n",
    "Y = df.iloc[:,4:5].values\n",
    "X = np.concatenate( (df.iloc[:,:4].values, df.iloc[:,5:].values), axis = 1 )\n",
    "print(Y[0:3])\n",
    "print(X[0:3,:])\n"
   ]
  },
  {
   "cell_type": "code",
   "execution_count": 8,
   "metadata": {},
   "outputs": [],
   "source": [
    "#Normalize the data\n",
    "sc = StandardScaler()\n",
    "X = sc.fit_transform(X)"
   ]
  },
  {
   "cell_type": "code",
   "execution_count": 9,
   "metadata": {},
   "outputs": [
    {
     "name": "stdout",
     "output_type": "stream",
     "text": [
      "# Train: 1692418 , #Test: 188047\n",
      "# inputs: 5\n"
     ]
    }
   ],
   "source": [
    "# Shuffles the data before split\n",
    "# Train/Test split\n",
    "X_train,X_test,y_train,y_test = train_test_split(X,Y,test_size = 0.1)\n",
    "print(\"# Train: {} , #Test: {}\".format(X_train.shape[0], X_test.shape[0]))\n",
    "print(\"# inputs: {}\".format(X_train.shape[1]))\n",
    "n = X_train.shape[1]"
   ]
  },
  {
   "cell_type": "code",
   "execution_count": 10,
   "metadata": {},
   "outputs": [
    {
     "data": {
      "image/png": "[encoded data removed]",
      "text/plain": [
       "<Figure size 432x288 with 1 Axes>"
      ]
     },
     "metadata": {
      "needs_background": "light"
     },
     "output_type": "display_data"
    }
   ],
   "source": [
    "#Distibution of fire size\n",
    "plt.hist(y_train, bins=100);\n",
    "plt.ylabel('Number of Fires')\n",
    "plt.xlabel('Fire Size')\n",
    "plt.show()"
   ]
  },
  {
   "cell_type": "code",
   "execution_count": 18,
   "metadata": {},
   "outputs": [
    {
     "name": "stdout",
     "output_type": "stream",
     "text": [
      "Model: \"sequential_1\"\n",
      "_________________________________________________________________\n",
      "Layer (type)                 Output Shape              Param #   \n",
      "=================================================================\n",
      "dense_1 (Dense)              (None, 32)                192       \n",
      "_________________________________________________________________\n",
      "dense_2 (Dense)              (None, 64)                2112      \n",
      "_________________________________________________________________\n",
      "dropout_1 (Dropout)          (None, 64)                0         \n",
      "_________________________________________________________________\n",
      "dense_3 (Dense)              (None, 128)               8320      \n",
      "_________________________________________________________________\n",
      "dropout_2 (Dropout)          (None, 128)               0         \n",
      "_________________________________________________________________\n",
      "dense_4 (Dense)              (None, 256)               33024     \n",
      "_________________________________________________________________\n",
      "dropout_3 (Dropout)          (None, 256)               0         \n",
      "_________________________________________________________________\n",
      "dense_5 (Dense)              (None, 256)               65792     \n",
      "_________________________________________________________________\n",
      "dropout_4 (Dropout)          (None, 256)               0         \n",
      "_________________________________________________________________\n",
      "dense_6 (Dense)              (None, 128)               32896     \n",
      "_________________________________________________________________\n",
      "dropout_5 (Dropout)          (None, 128)               0         \n",
      "_________________________________________________________________\n",
      "dense_7 (Dense)              (None, 64)                8256      \n",
      "_________________________________________________________________\n",
      "dropout_6 (Dropout)          (None, 64)                0         \n",
      "_________________________________________________________________\n",
      "dense_8 (Dense)              (None, 32)                2080      \n",
      "_________________________________________________________________\n",
      "dropout_7 (Dropout)          (None, 32)                0         \n",
      "_________________________________________________________________\n",
      "dense_9 (Dense)              (None, 16)                528       \n",
      "_________________________________________________________________\n",
      "dense_10 (Dense)             (None, 1)                 17        \n",
      "=================================================================\n",
      "Total params: 153,217\n",
      "Trainable params: 153,217\n",
      "Non-trainable params: 0\n",
      "_________________________________________________________________\n"
     ]
    }
   ],
   "source": [
    "# Neural network\n",
    "model = Sequential()\n",
    "model.add(Dense(32, input_dim=n, kernel_initializer='normal', activation='relu'))\n",
    "model.add(Dense(64, input_dim=n , activation='relu'))\n",
    "model.add(Dropout(0.2))\n",
    "model.add(Dense(128, activation='relu'))\n",
    "model.add(Dropout(0.2))\n",
    "model.add(Dense(256, activation='relu'))\n",
    "model.add(Dropout(0.2))\n",
    "model.add(Dense(256, activation='relu'))\n",
    "model.add(Dropout(0.2))\n",
    "model.add(Dense(128, activation='relu'))\n",
    "model.add(Dropout(0.2))\n",
    "model.add(Dense(64, activation='relu'))\n",
    "model.add(Dropout(0.2))\n",
    "model.add(Dense(32, activation='relu'))\n",
    "model.add(Dropout(0.2))\n",
    "model.add(Dense(16, activation='relu'))\n",
    "model.add(Dense(1, activation='linear'))\n",
    "model.summary()"
   ]
  },
  {
   "cell_type": "code",
   "execution_count": 19,
   "metadata": {},
   "outputs": [],
   "source": [
    "model.compile(loss='mse', optimizer='adam', metrics=['mse','mae'])"
   ]
  },
  {
   "cell_type": "code",
   "execution_count": 18,
   "metadata": {},
   "outputs": [
    {
     "name": "stdout",
     "output_type": "stream",
     "text": [
      "Train on 1523176 samples, validate on 169242 samples\n",
      "Epoch 1/10\n",
      " - 21s - loss: 48.6595 - mse: 48.6595 - mae: 4.9291 - val_loss: 159.8331 - val_mse: 159.8331 - val_mae: 11.9100\n",
      "Epoch 2/10\n",
      " - 21s - loss: 20.4192 - mse: 20.4192 - mae: 3.4406 - val_loss: 133.1046 - val_mse: 133.1046 - val_mae: 10.8512\n",
      "Epoch 3/10\n",
      " - 23s - loss: 15.3836 - mse: 15.3836 - mae: 2.9336 - val_loss: 109.4478 - val_mse: 109.4478 - val_mae: 9.7820\n",
      "Epoch 4/10\n",
      " - 22s - loss: 12.6226 - mse: 12.6226 - mae: 2.5990 - val_loss: 92.5370 - val_mse: 92.5370 - val_mae: 8.9279\n",
      "Epoch 5/10\n",
      " - 22s - loss: 11.2375 - mse: 11.2375 - mae: 2.4050 - val_loss: 87.6749 - val_mse: 87.6748 - val_mae: 8.6104\n",
      "Epoch 6/10\n",
      " - 22s - loss: 10.3881 - mse: 10.3881 - mae: 2.2884 - val_loss: 76.3893 - val_mse: 76.3893 - val_mae: 8.0076\n",
      "Epoch 7/10\n",
      " - 22s - loss: 9.8409 - mse: 9.8409 - mae: 2.2102 - val_loss: 70.1878 - val_mse: 70.1878 - val_mae: 7.5780\n",
      "Epoch 8/10\n",
      " - 23s - loss: 9.4053 - mse: 9.4053 - mae: 2.1467 - val_loss: 63.0735 - val_mse: 63.0735 - val_mae: 7.1255\n",
      "Epoch 9/10\n",
      " - 22s - loss: 9.0207 - mse: 9.0207 - mae: 2.0943 - val_loss: 53.9156 - val_mse: 53.9155 - val_mae: 6.5306\n",
      "Epoch 10/10\n",
      " - 22s - loss: 8.8811 - mse: 8.8811 - mae: 2.0657 - val_loss: 52.3602 - val_mse: 52.3602 - val_mae: 6.2375\n"
     ]
    },
    {
     "data": {
      "text/plain": [
       "<keras.callbacks.callbacks.History at 0x7fdfb9a95908>"
      ]
     },
     "execution_count": 18,
     "metadata": {},
     "output_type": "execute_result"
    }
   ],
   "source": [
    "#Save partly trained model\n",
    "#model.save('partly_trained.h5')\n",
    "\n",
    "#Load partly trained model\n",
    "from keras.models import load_model\n",
    "#model = load_model('partly_trained.h5')\n",
    "\n",
    "#Continue training\n",
    "model.fit(X_train, y_train, epochs=10, batch_size=640, verbose = 2, validation_split = 0.1, shuffle=True)"
   ]
  },
  {
   "cell_type": "code",
   "execution_count": 18,
   "metadata": {},
   "outputs": [
    {
     "name": "stdout",
     "output_type": "stream",
     "text": [
      "188047/188047 [==============================] - 4s 20us/step\n",
      "MSE: 52.54, MAE: 6.25\n"
     ]
    }
   ],
   "source": [
    "#Save partly trained model\n",
    "#model.save('partly_trained.h5')\n",
    "\n",
    "#Load partly trained model\n",
    "from keras.models import load_model\n",
    "model = load_model('partly_trained.h5')\n",
    "\n",
    "\n",
    "_, mse, mae = model.evaluate(X_test, y_test)\n",
    "print('MSE: %.2f, MAE: %.2f' % (mse,mae))"
   ]
  },
  {
   "cell_type": "code",
   "execution_count": 27,
   "metadata": {},
   "outputs": [
    {
     "name": "stdout",
     "output_type": "stream",
     "text": [
      "188047/188047 [==============================] - 3s 16us/step\n"
     ]
    },
    {
     "data": {
      "image/png": "[encoded data removed]",
      "text/plain": [
       "<Figure size 432x288 with 1 Axes>"
      ]
     },
     "metadata": {
      "needs_background": "light"
     },
     "output_type": "display_data"
    }
   ],
   "source": [
    "#Visualize some predictions\n",
    "preds = model.predict(X_test, verbose=1)\n",
    "plt.scatter(y_test, preds, s=0.3, marker='.', c='r')\n",
    "plt.xlabel('True Size')\n",
    "plt.ylabel('Predicted Size')\n",
    "plt.plot([20,50],[20,50],c='k',linestyle='--')\n",
    "plt.show()"
   ]
  },
  {
   "cell_type": "code",
   "execution_count": null,
   "metadata": {},
   "outputs": [],
   "source": [
    "# Plot training & validation accuracy values\n",
    "plt.plot(history.history['accuracy'])\n",
    "plt.title('Model Accuracy')\n",
    "plt.ylabel('Accuracy')\n",
    "plt.xlabel('Epoch')\n",
    "plt.legend(['Train', 'Test'], loc='upper left')\n",
    "plt.show()"
   ]
  },
  {
   "cell_type": "code",
   "execution_count": 99,
   "metadata": {},
   "outputs": [
    {
     "data": {
      "image/png": "[encoded data removed]",
      "text/plain": [
       "<Figure size 432x288 with 1 Axes>"
      ]
     },
     "metadata": {
      "needs_background": "light"
     },
     "output_type": "display_data"
    }
   ],
   "source": [
    "# Plot training & validation loss values\n",
    "plt.plot(history.history['loss'])\n",
    "plt.title('Model loss')\n",
    "plt.ylabel('Loss')\n",
    "plt.xlabel('Epoch')\n",
    "plt.legend(['Train', 'Test'], loc='upper left')\n",
    "plt.show()"
   ]
  },
  {
   "cell_type": "code",
   "execution_count": 18,
   "metadata": {},
   "outputs": [
    {
     "name": "stdout",
     "output_type": "stream",
     "text": [
      "K= rbf, degree= 20\n",
      "MAE: 3.5960389341443495\n",
      "r2: 0.2986702801503117\n",
      "---------------------------------------\n"
     ]
    }
   ],
   "source": [
    "# SVM\n",
    "from sklearn import svm\n",
    "from sklearn.metrics import r2_score, mean_absolute_error\n",
    "\n",
    "n = 10000\n",
    "svm_reg = svm.SVR(kernel='rbf', degree=deg, gamma='auto')\n",
    "svm_reg.fit(X_train[0:n,:],y_train[0:n].reshape(-1))\n",
    "\n",
    "y_pred = svm_reg.predict(X_test[0:n,:])\n",
    "\n",
    "print(\"MAE: {}\".format(mean_absolute_error(y_test[0:n],y_pred)))\n",
    "print(\"r2: {}\".format(r2_score(y_test[0:n],y_pred)))\n",
    "print(\"---------------------------------------\")\n"
   ]
  },
  {
   "cell_type": "code",
   "execution_count": 31,
   "metadata": {},
   "outputs": [
    {
     "name": "stdout",
     "output_type": "stream",
     "text": [
      "MAE: 2.9377906768043127\n",
      "r2: 0.5936004578504975\n",
      "---------------------------------------\n"
     ]
    }
   ],
   "source": [
    "# SKlearn MLP\n",
    "from sklearn.neural_network import MLPRegressor\n",
    "\n",
    "n = 10000\n",
    "\n",
    "NN = MLPRegressor(hidden_layer_sizes=(800,800,800,800),max_iter=200\n",
    "                 )\n",
    "\n",
    "NN.fit(X_train[0:n,:],y_train[0:n].reshape(-1))\n",
    "y_pred = NN.predict(X_test[0:n,:])\n",
    "\n",
    "print(\"MAE: {}\".format(mean_absolute_error(y_test[0:n],y_pred)))\n",
    "print(\"r2: {}\".format(r2_score(y_test[0:n],y_pred)))\n",
    "print(\"---------------------------------------\")\n",
    "\n"
   ]
  },
  {
   "cell_type": "code",
   "execution_count": 39,
   "metadata": {},
   "outputs": [
    {
     "name": "stdout",
     "output_type": "stream",
     "text": [
      "nbs: 3, wts: distance\n",
      "MAE: 2.850458582088001\n",
      "r2: 0.5466271766560886\n",
      "---------------------------------------\n",
      "nbs: 3, wts: uniform\n",
      "MAE: 2.896626296530333\n",
      "r2: 0.5412828579215408\n",
      "---------------------------------------\n",
      "nbs: 5, wts: distance\n",
      "MAE: 2.8078940836804565\n",
      "r2: 0.5739384391773825\n",
      "---------------------------------------\n",
      "nbs: 5, wts: uniform\n",
      "MAE: 2.8843075882324003\n",
      "r2: 0.5603553094200107\n",
      "---------------------------------------\n",
      "nbs: 10, wts: distance\n",
      "MAE: 2.829045443568786\n",
      "r2: 0.5784726497971278\n",
      "---------------------------------------\n",
      "nbs: 10, wts: uniform\n",
      "MAE: 2.9426652407788003\n",
      "r2: 0.5520116486941183\n",
      "---------------------------------------\n"
     ]
    }
   ],
   "source": [
    "# K Nearest Neighbours\n",
    "from sklearn.neighbors import KNeighborsRegressor\n",
    "\n",
    "n = 10000\n",
    "\n",
    "for nbs in [3,5,10]:\n",
    "    for wts in ['distance','uniform']:\n",
    "        K_nn = KNeighborsRegressor(n_neighbors=nbs,\n",
    "                                   weights=wts,\n",
    "                                   n_jobs=6)\n",
    "\n",
    "        K_nn.fit(X_train[0:n,:],y_train[0:n].reshape(-1))\n",
    "        y_pred = K_nn.predict(X_test[0:n,:])\n",
    "\n",
    "        print(\"nbs: {}, wts: {}\".format(nbs, wts))\n",
    "        print(\"MAE: {}\".format(mean_absolute_error(y_test[0:n],y_pred)))\n",
    "        print(\"r2: {}\".format(r2_score(y_test[0:n],y_pred)))\n",
    "        print(\"---------------------------------------\")\n"
   ]
  },
  {
   "cell_type": "code",
   "execution_count": 47,
   "metadata": {},
   "outputs": [
    {
     "name": "stdout",
     "output_type": "stream",
     "text": [
      "MAE: 3.0811215912115\n",
      "r2: 0.37784189558739967\n",
      "---------------------------------------\n"
     ]
    }
   ],
   "source": [
    "# Decision Tree\n",
    "from sklearn import tree\n",
    "\n",
    "tree_clf = tree.DecisionTreeRegressor(criterion='mae')\n",
    "\n",
    "tree_clf.fit(X_train[0:n,:],y_train[0:n].reshape(-1))\n",
    "\n",
    "y_pred = tree_clf.predict(X_test[0:n,:])\n",
    "\n",
    "print(\"MAE: {}\".format(mean_absolute_error(y_test[0:n],y_pred)))\n",
    "print(\"r2: {}\".format(r2_score(y_test[0:n],y_pred)))\n",
    "print(\"---------------------------------------\")\n"
   ]
  },
  {
   "cell_type": "code",
   "execution_count": 46,
   "metadata": {},
   "outputs": [
    {
     "name": "stdout",
     "output_type": "stream",
     "text": [
      "MAE: 2.8222310234315002\n",
      "r2: 0.5813896406600833\n",
      "---------------------------------------\n"
     ]
    }
   ],
   "source": [
    "# Stacked regressors\n",
    "from mlxtend.regressor import StackingRegressor\n",
    "\n",
    "n = 10000\n",
    "\n",
    "estimators = [K_nn, NN, svm_reg]\n",
    "\n",
    "regStack = StackingRegressor(regressors=estimators,\n",
    "                             meta_regressor=NN)\n",
    "\n",
    "regStack.fit(X_train[0:n,:],y_train[0:n].reshape(-1))\n",
    "\n",
    "y_pred = regStack.predict(X_test[0:n,:])\n",
    "\n",
    "print(\"MAE: {}\".format(mean_absolute_error(y_test[0:n],y_pred)))\n",
    "print(\"r2: {}\".format(r2_score(y_test[0:n],y_pred)))\n",
    "print(\"---------------------------------------\")\n"
   ]
  },
  {
   "cell_type": "code",
   "execution_count": null,
   "metadata": {},
   "outputs": [],
   "source": []
  }
 ],
 "metadata": {
  "@webio": {
   "lastCommId": null,
   "lastKernelId": null
  },
  "kernelspec": {
   "display_name": "Python 3",
   "language": "python",
   "name": "python3"
  },
  "language_info": {
   "codemirror_mode": {
    "name": "ipython",
    "version": 3
   },
   "file_extension": ".py",
   "mimetype": "text/x-python",
   "name": "python",
   "nbconvert_exporter": "python",
   "pygments_lexer": "ipython3",
   "version": "3.5.2"
  }
 },
 "nbformat": 4,
 "nbformat_minor": 2
}
