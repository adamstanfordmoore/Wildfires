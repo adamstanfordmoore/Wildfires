{
 "cells": [
  {
   "cell_type": "code",
   "execution_count": 1,
   "metadata": {},
   "outputs": [],
   "source": [
    "#    1. X - x-axis spatial coordinate within the Montesinho park map: 1 to 9\n",
    "#    2. Y - y-axis spatial coordinate within the Montesinho park map: 2 to 9\n",
    "#    3. month - month of the year: \"jan\" to \"dec\" \n",
    "#    4. day - day of the week: \"mon\" to \"sun\"\n",
    "#    5. FFMC - FFMC index from the FWI system: 18.7 to 96.20\n",
    "#    6. DMC - DMC index from the FWI system: 1.1 to 291.3 \n",
    "#    7. DC - DC index from the FWI system: 7.9 to 860.6 \n",
    "#    8. ISI - ISI index from the FWI system: 0.0 to 56.10\n",
    "#    9. temp - temperature in Celsius degrees: 2.2 to 33.30\n",
    "#    10. RH - relative humidity in %: 15.0 to 100\n",
    "#    11. wind - wind speed in km/h: 0.40 to 9.40 \n",
    "#    12. rain - outside rain in mm/m2 : 0.0 to 6.4 \n",
    "#    13. area - the burned area of the forest (in ha): 0.00 to 1090.84 \n",
    "#    (this output variable is very skewed towards 0.0, thus it may make\n",
    "#     sense to model with the logarithm transform). "
   ]
  },
  {
   "cell_type": "code",
   "execution_count": 13,
   "metadata": {},
   "outputs": [],
   "source": [
    "import numpy as np\n",
    "import matplotlib.pyplot as plt\n",
    "\n",
    "from sklearn.preprocessing import StandardScaler\n",
    "from sklearn.model_selection import train_test_split"
   ]
  },
  {
   "cell_type": "code",
   "execution_count": 14,
   "metadata": {},
   "outputs": [
    {
     "name": "stdout",
     "output_type": "stream",
     "text": [
      "(517, 12) (517,)\n"
     ]
    }
   ],
   "source": [
    "# Load data\n",
    "\n",
    "UCI_dataset = np.loadtxt(\"forestfires.csv\", \n",
    "                         dtype= 'str', skiprows=1, delimiter=',')\n",
    "\n",
    "X = UCI_dataset[:,0:12]\n",
    "Y = UCI_dataset[:,12]\n",
    "print(X.shape,Y.shape)"
   ]
  },
  {
   "cell_type": "code",
   "execution_count": 16,
   "metadata": {},
   "outputs": [
    {
     "name": "stdout",
     "output_type": "stream",
     "text": [
      "# Train: 361 , #Test: 156\n",
      "# inputs: 12\n"
     ]
    }
   ],
   "source": [
    "# Shuffles the data before split\n",
    "# Train/Test split\n",
    "X_train,X_test,y_train,y_test = train_test_split(X,Y,test_size = 0.3)\n",
    "print(\"# Train: {} , #Test: {}\".format(X_train.shape[0], X_test.shape[0]))\n",
    "print(\"# inputs: {}\".format(X_train.shape[1]))\n",
    "n = X_train.shape[1]"
   ]
  },
  {
   "cell_type": "code",
   "execution_count": null,
   "metadata": {},
   "outputs": [],
   "source": []
  }
 ],
 "metadata": {
  "kernelspec": {
   "display_name": "Python 3",
   "language": "python",
   "name": "python3"
  },
  "language_info": {
   "codemirror_mode": {
    "name": "ipython",
    "version": 3
   },
   "file_extension": ".py",
   "mimetype": "text/x-python",
   "name": "python",
   "nbconvert_exporter": "python",
   "pygments_lexer": "ipython3",
   "version": "3.5.2"
  }
 },
 "nbformat": 4,
 "nbformat_minor": 2
}
